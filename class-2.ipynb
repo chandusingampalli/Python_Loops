{
 "cells": [
  {
   "cell_type": "markdown",
   "id": "0ea66726",
   "metadata": {},
   "source": [
    "# FOR-Loop"
   ]
  },
  {
   "cell_type": "markdown",
   "id": "2512b98c",
   "metadata": {},
   "source": [
    "# "
   ]
  },
  {
   "cell_type": "markdown",
   "id": "a39f2937",
   "metadata": {},
   "source": [
    "# Q1.print the discounted price of a mobile"
   ]
  },
  {
   "cell_type": "code",
   "execution_count": 1,
   "id": "0869474f",
   "metadata": {},
   "outputs": [
    {
     "name": "stdout",
     "output_type": "stream",
     "text": [
      "38000.0\n",
      "36000.0\n",
      "34000.0\n",
      "32000.0\n"
     ]
    }
   ],
   "source": [
    "phone = 40000\n",
    "discount=[5,10,15,20]\n",
    "for i in discount:\n",
    "    print(phone-phone*i/100)\n",
    "\n"
   ]
  },
  {
   "cell_type": "markdown",
   "id": "55aba7cd",
   "metadata": {},
   "source": [
    "# Q2.Print the multiplication table of 5"
   ]
  },
  {
   "cell_type": "code",
   "execution_count": 4,
   "id": "7156b555",
   "metadata": {},
   "outputs": [
    {
     "name": "stdout",
     "output_type": "stream",
     "text": [
      "5 x 1 = 5\n",
      "5 x 2 = 10\n",
      "5 x 3 = 15\n",
      "5 x 4 = 20\n",
      "5 x 5 = 25\n",
      "5 x 6 = 30\n",
      "5 x 7 = 35\n",
      "5 x 8 = 40\n",
      "5 x 9 = 45\n",
      "5 x 10 = 50\n"
     ]
    }
   ],
   "source": [
    "num=5\n",
    "for i in range(1,11):\n",
    "    print(num,\"x\",i,\"=\",num*i)"
   ]
  },
  {
   "cell_type": "markdown",
   "id": "ab5b68b0",
   "metadata": {},
   "source": [
    "# Q3.Print even numbers from 2 to 10 "
   ]
  },
  {
   "cell_type": "code",
   "execution_count": 3,
   "id": "53b7b90c",
   "metadata": {},
   "outputs": [
    {
     "name": "stdout",
     "output_type": "stream",
     "text": [
      "2\n",
      "4\n",
      "6\n",
      "8\n",
      "10\n"
     ]
    }
   ],
   "source": [
    "for i in range(2,11):\n",
    "    if i%2==0:\n",
    "        print(i)"
   ]
  },
  {
   "cell_type": "markdown",
   "id": "a54add60",
   "metadata": {},
   "source": [
    "# "
   ]
  },
  {
   "cell_type": "markdown",
   "id": "75c349d8",
   "metadata": {},
   "source": [
    "# While-Loop"
   ]
  },
  {
   "cell_type": "markdown",
   "id": "628e44b2",
   "metadata": {},
   "source": [
    "# "
   ]
  },
  {
   "cell_type": "markdown",
   "id": "a44f5f6a",
   "metadata": {},
   "source": [
    "# Q1.Write a code in python that prints the discounted price "
   ]
  },
  {
   "cell_type": "code",
   "execution_count": 5,
   "id": "8b75e560",
   "metadata": {},
   "outputs": [
    {
     "name": "stdout",
     "output_type": "stream",
     "text": [
      "38000.0\n",
      "36000.0\n",
      "34000.0\n",
      "32000.0\n"
     ]
    }
   ],
   "source": [
    "price=40000\n",
    "i=5\n",
    "while i<=20:\n",
    "    discounted_price=price-(price*i/100)\n",
    "    print(discounted_price)\n",
    "    i+=5"
   ]
  },
  {
   "cell_type": "markdown",
   "id": "8bcb4f02",
   "metadata": {},
   "source": [
    "# Q2.Print the multiplication table of 5"
   ]
  },
  {
   "cell_type": "code",
   "execution_count": 4,
   "id": "5c72dc4d",
   "metadata": {},
   "outputs": [
    {
     "name": "stdout",
     "output_type": "stream",
     "text": [
      "5 x 1 = 5\n",
      "5 x 2 = 10\n",
      "5 x 3 = 15\n",
      "5 x 4 = 20\n",
      "5 x 5 = 25\n",
      "5 x 6 = 30\n",
      "5 x 7 = 35\n",
      "5 x 8 = 40\n",
      "5 x 9 = 45\n",
      "5 x 10 = 50\n"
     ]
    }
   ],
   "source": [
    "count=1\n",
    "while count<=10:\n",
    "    print(5,\"x\",count,\"=\",count*5)\n",
    "    count+=1"
   ]
  },
  {
   "cell_type": "markdown",
   "id": "d1242580",
   "metadata": {},
   "source": [
    "# Q3.Print even numbers from 2 to 10"
   ]
  },
  {
   "cell_type": "code",
   "execution_count": 4,
   "id": "55103d26",
   "metadata": {},
   "outputs": [],
   "source": [
    "i=2\n",
    "while i<=10&i%2==0:\n",
    "        print(i)\n",
    "        i+=1"
   ]
  },
  {
   "cell_type": "markdown",
   "id": "59e53c89",
   "metadata": {},
   "source": [
    "# combining Lists"
   ]
  },
  {
   "cell_type": "code",
   "execution_count": 1,
   "id": "bdf215f8",
   "metadata": {},
   "outputs": [
    {
     "name": "stdout",
     "output_type": "stream",
     "text": [
      "[('New York', 83883883, 'USA'), ('Paris', 893838739, 'France'), ('Tokyo', 73838390, 'Japan')]\n"
     ]
    }
   ],
   "source": [
    "cities=[\"New York\",\"Paris\",\"Tokyo\"]\n",
    "populations=[83883883,893838739,73838390]\n",
    "countries=[\"USA\",\"France\",\"Japan\"]\n",
    "combined_data=list(zip(cities,populations,countries))\n",
    "print(combined_data)"
   ]
  },
  {
   "cell_type": "markdown",
   "id": "e94e3848",
   "metadata": {},
   "source": [
    "# "
   ]
  },
  {
   "cell_type": "code",
   "execution_count": 3,
   "id": "72e19e0b",
   "metadata": {},
   "outputs": [
    {
     "name": "stdout",
     "output_type": "stream",
     "text": [
      "('apple', 'banana', 'orange')\n",
      "(3, 2, 1)\n",
      "('A', 'B', 'C')\n"
     ]
    }
   ],
   "source": [
    "data=[[\"apple\",3,\"A\"],[\"banana\",2,\"B\"],[\"orange\",1,\"C\"]]\n",
    "x,y,z=zip(*data)\n",
    "print(x)\n",
    "print(y)\n",
    "print(z)"
   ]
  },
  {
   "cell_type": "markdown",
   "id": "322ebf7d",
   "metadata": {},
   "source": [
    "# Enumerate "
   ]
  },
  {
   "cell_type": "code",
   "execution_count": 6,
   "id": "d06c7346",
   "metadata": {},
   "outputs": [
    {
     "name": "stdout",
     "output_type": "stream",
     "text": [
      "0 1\n",
      "1 2\n",
      "2 3\n",
      "3 4\n"
     ]
    }
   ],
   "source": [
    "serial_no=[1,2,3,4]\n",
    "for index,no in enumerate(serial_no):\n",
    "    print(index,no)"
   ]
  },
  {
   "cell_type": "code",
   "execution_count": 7,
   "id": "cc2ce78d",
   "metadata": {},
   "outputs": [
    {
     "name": "stdout",
     "output_type": "stream",
     "text": [
      "1 1\n",
      "2 2\n",
      "3 3\n",
      "4 4\n"
     ]
    }
   ],
   "source": [
    "serial_no=[1,2,3,4]\n",
    "for index,no in enumerate(serial_no,start=1):\n",
    "    print(index,no)"
   ]
  },
  {
   "cell_type": "code",
   "execution_count": 11,
   "id": "9a40449a",
   "metadata": {},
   "outputs": [
    {
     "name": "stdout",
     "output_type": "stream",
     "text": [
      "  0\n",
      "H 1\n",
      "e 2\n",
      "l 3\n",
      "l 4\n",
      "o 5\n",
      "  6\n"
     ]
    }
   ],
   "source": [
    "message=\" Hello \"\n",
    "for i,j in enumerate(message):\n",
    "    print(j,i)"
   ]
  },
  {
   "cell_type": "markdown",
   "id": "e56544f5",
   "metadata": {},
   "source": [
    "# Questions"
   ]
  },
  {
   "cell_type": "markdown",
   "id": "e8112575",
   "metadata": {},
   "source": [
    "# Q1.Finding the sum of numbers in a list using while loop"
   ]
  },
  {
   "cell_type": "code",
   "execution_count": 13,
   "id": "83a97985",
   "metadata": {},
   "outputs": [
    {
     "name": "stdout",
     "output_type": "stream",
     "text": [
      "Sum: 150\n"
     ]
    }
   ],
   "source": [
    "numbers = [10, 20, 30, 40, 50]\n",
    "total = 0\n",
    "i = 0\n",
    "\n",
    "while i < len(numbers):\n",
    "    total += numbers[i]  \n",
    "    i += 1  \n",
    "\n",
    "print(\"Sum:\", total)\n"
   ]
  },
  {
   "cell_type": "markdown",
   "id": "ca4e6af3",
   "metadata": {},
   "source": [
    "# Q2.Printing the square of numbers using while loop"
   ]
  },
  {
   "cell_type": "code",
   "execution_count": 14,
   "id": "7c6a95bd",
   "metadata": {},
   "outputs": [
    {
     "name": "stdout",
     "output_type": "stream",
     "text": [
      "Square of 1 is 1\n",
      "Square of 2 is 4\n",
      "Square of 3 is 9\n",
      "Square of 4 is 16\n",
      "Square of 5 is 25\n"
     ]
    }
   ],
   "source": [
    "numbers = [1, 2, 3, 4, 5]  \n",
    "i = 0  \n",
    "\n",
    "while i < len(numbers):\n",
    "    print(\"Square of\", numbers[i], \"is\", numbers[i] ** 2)  \n",
    "    i += 1  \n"
   ]
  },
  {
   "cell_type": "markdown",
   "id": "af0b5749",
   "metadata": {},
   "source": [
    "# Q3.Finding the sum of even numbers using while loop"
   ]
  },
  {
   "cell_type": "code",
   "execution_count": 15,
   "id": "6ef47916",
   "metadata": {},
   "outputs": [
    {
     "name": "stdout",
     "output_type": "stream",
     "text": [
      "Sum of even numbers: 30\n"
     ]
    }
   ],
   "source": [
    "numbers = [1, 2, 3, 4, 5, 6, 7, 8, 9, 10]  \n",
    "total = 0  \n",
    "i = 0  \n",
    "\n",
    "while i < len(numbers):\n",
    "    if numbers[i] % 2 == 0:  \n",
    "        total += numbers[i]  \n",
    "    i += 1  \n",
    "\n",
    "print(\"Sum of even numbers:\", total)\n"
   ]
  },
  {
   "cell_type": "markdown",
   "id": "04a12a87",
   "metadata": {},
   "source": [
    "# Q4.Finding the factorial of a given number using  loop"
   ]
  },
  {
   "cell_type": "code",
   "execution_count": 16,
   "id": "42bbfeeb",
   "metadata": {},
   "outputs": [
    {
     "name": "stdout",
     "output_type": "stream",
     "text": [
      "Enter a number: 2\n",
      "Factorial of 2 is 2\n"
     ]
    }
   ],
   "source": [
    "num = int(input(\"Enter a number: \"))  \n",
    "factorial = 1  \n",
    "i = 1  \n",
    "\n",
    "while i <= num:  \n",
    "    factorial *= i\n",
    "    i += 1  \n",
    "\n",
    "print(\"Factorial of\", num, \"is\", factorial)\n"
   ]
  },
  {
   "cell_type": "code",
   "execution_count": null,
   "id": "59cb4e61",
   "metadata": {},
   "outputs": [],
   "source": []
  }
 ],
 "metadata": {
  "kernelspec": {
   "display_name": "Python 3 (ipykernel)",
   "language": "python",
   "name": "python3"
  },
  "language_info": {
   "codemirror_mode": {
    "name": "ipython",
    "version": 3
   },
   "file_extension": ".py",
   "mimetype": "text/x-python",
   "name": "python",
   "nbconvert_exporter": "python",
   "pygments_lexer": "ipython3",
   "version": "3.11.5"
  }
 },
 "nbformat": 4,
 "nbformat_minor": 5
}
